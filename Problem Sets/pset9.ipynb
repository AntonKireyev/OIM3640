{
 "cells": [
  {
   "cell_type": "markdown",
   "metadata": {},
   "source": [
    "# Problem Set 9\n",
    "### By Anton Kireyev\n",
    "Assume you have list object variable named data with the following values: 5,3,7. What are the values for the following expressions?\n",
    "\n",
    "* data[2]\n",
    "* data[-1]\n",
    "* len(data)\n",
    "* data[0:2]\n",
    "* data + [2, 20, 5]\n",
    "* tuple(data)"
   ]
  },
  {
   "cell_type": "code",
   "execution_count": 47,
   "metadata": {},
   "outputs": [
    {
     "name": "stdout",
     "output_type": "stream",
     "text": [
      "[5, 3, 7]\n",
      "7\n",
      "7\n",
      "3\n",
      "[5, 3]\n",
      "[5, 3, 7, 2, 20, 5]\n",
      "(5, 3, 7)\n"
     ]
    }
   ],
   "source": [
    "data = [5, 3, 7]\n",
    "print(data)\n",
    "print(data[2])\n",
    "print(data[-1])\n",
    "print(len(data))\n",
    "print(data[0:2])\n",
    "print(data + [2, 20, 5])\n",
    "print(tuple(data))  # Tuples are Immutable, Lists are Mutable."
   ]
  },
  {
   "cell_type": "markdown",
   "metadata": {},
   "source": [
    "## Part 2\n",
    "\n",
    "write the code for the following:"
   ]
  },
  {
   "cell_type": "code",
   "execution_count": 18,
   "metadata": {},
   "outputs": [],
   "source": [
    "data = [5, 3, 7]"
   ]
  },
  {
   "cell_type": "code",
   "execution_count": 19,
   "metadata": {},
   "outputs": [
    {
     "name": "stdout",
     "output_type": "stream",
     "text": [
      "[-5, 3, 7]\n"
     ]
    }
   ],
   "source": [
    "# replace the first value in data with its negative\n",
    "data.insert(0, -data[0])\n",
    "data.pop(1)\n",
    "print(data)\n"
   ]
  },
  {
   "cell_type": "code",
   "execution_count": 20,
   "metadata": {},
   "outputs": [
    {
     "name": "stdout",
     "output_type": "stream",
     "text": [
      "[-5, 3, 7, 10]\n"
     ]
    }
   ],
   "source": [
    "# add the value 10 to the end of data\n",
    "data.append(10)\n",
    "print(data)"
   ]
  },
  {
   "cell_type": "code",
   "execution_count": 21,
   "metadata": {},
   "outputs": [
    {
     "name": "stdout",
     "output_type": "stream",
     "text": [
      "[-5, 16, 3, 7, 10]\n"
     ]
    }
   ],
   "source": [
    "# insert 16 at position 2 in the data \n",
    "data.insert(1, 16)\n",
    "print(data)"
   ]
  },
  {
   "cell_type": "code",
   "execution_count": 22,
   "metadata": {},
   "outputs": [
    {
     "name": "stdout",
     "output_type": "stream",
     "text": [
      "[16, 3, 7, 10]\n"
     ]
    }
   ],
   "source": [
    "# remove the value at position 1 in data\n",
    "data.pop(0)\n",
    "print(data)"
   ]
  },
  {
   "cell_type": "code",
   "execution_count": 28,
   "metadata": {},
   "outputs": [
    {
     "data": {
      "text/plain": [
       "[3, 7, 10, 16]"
      ]
     },
     "execution_count": 28,
     "metadata": {},
     "output_type": "execute_result"
    }
   ],
   "source": [
    "# sort the values in data tempoarily\n",
    "sorted(data)"
   ]
  },
  {
   "cell_type": "code",
   "execution_count": 27,
   "metadata": {},
   "outputs": [
    {
     "name": "stdout",
     "output_type": "stream",
     "text": [
      "[3, 7, 10, 16]\n"
     ]
    }
   ],
   "source": [
    "# sort the values in data permanently\n",
    "data = sorted(data)\n",
    "print(data)"
   ]
  },
  {
   "cell_type": "code",
   "execution_count": 48,
   "metadata": {},
   "outputs": [
    {
     "name": "stdout",
     "output_type": "stream",
     "text": [
      "[5, 3, 7]\n"
     ]
    }
   ],
   "source": [
    "# write a script that changes even numbers in data to negative values \n",
    "data = [x if x % 2 else -x for x in data]\n",
    "print(data)"
   ]
  },
  {
   "cell_type": "code",
   "execution_count": 35,
   "metadata": {},
   "outputs": [
    {
     "name": "stdout",
     "output_type": "stream",
     "text": [
      "[-10, -16]\n"
     ]
    }
   ],
   "source": [
    "# write a script that places copies of negative values in data into a new list\n",
    "newlist = list()\n",
    "for x in data:\n",
    "    if x < 0:\n",
    "        newlist.append(x)\n",
    "\n",
    "print(newlist)"
   ]
  },
  {
   "cell_type": "code",
   "execution_count": 45,
   "metadata": {},
   "outputs": [
    {
     "name": "stdout",
     "output_type": "stream",
     "text": [
      "3\n",
      "10\n",
      "0\n",
      "-16\n",
      "[3, 7, -10, -16]\n",
      "[3, 10, 0, -16]\n"
     ]
    }
   ],
   "source": [
    "# write a script that prints each value in data as a cumulative sum of data, i.e. data: 5, 3, 7 would be: 5, 8, 15\n",
    "\n",
    "sum = 0\n",
    "c_data = list()\n",
    "for x in data:\n",
    "    sum += x\n",
    "    print(sum)\n",
    "    c_data.append(sum)\n",
    "\n",
    "print(data)\n",
    "print(c_data)"
   ]
  }
 ],
 "metadata": {
  "kernelspec": {
   "display_name": "base",
   "language": "python",
   "name": "python3"
  },
  "language_info": {
   "codemirror_mode": {
    "name": "ipython",
    "version": 3
   },
   "file_extension": ".py",
   "mimetype": "text/x-python",
   "name": "python",
   "nbconvert_exporter": "python",
   "pygments_lexer": "ipython3",
   "version": "3.11.5"
  }
 },
 "nbformat": 4,
 "nbformat_minor": 2
}

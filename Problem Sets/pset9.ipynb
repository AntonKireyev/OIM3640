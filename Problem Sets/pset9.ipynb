{
 "cells": [
  {
   "cell_type": "markdown",
   "metadata": {},
   "source": [
    "# Problem Set 9\n",
    "Assume you have list object variable named data with the following values: 5,3,7. What are the values for the following expressions?\n",
    "\n",
    "data[2]\n",
    "data[-1]\n",
    "len(data)\n",
    "data[0:2]\n",
    "data + [2, 20, 5]\n",
    "tuple(data)"
   ]
  },
  {
   "cell_type": "code",
   "execution_count": 6,
   "metadata": {},
   "outputs": [
    {
     "name": "stdout",
     "output_type": "stream",
     "text": [
      "7\n",
      "7\n",
      "3\n",
      "[5, 3]\n",
      "[5, 3, 7]\n",
      "(5, 3, 7)\n"
     ]
    }
   ],
   "source": [
    "data = [5, 3, 7]\n",
    "print(data[2])\n",
    "print(data[-1])\n",
    "print(len(data))\n",
    "print(data[0:2])\n",
    "data + [2, 20, 5]\n",
    "print(data)\n",
    "print(tuple(data))  # Tuples are Immutable, Lists are Mutable."
   ]
  },
  {
   "cell_type": "markdown",
   "metadata": {},
   "source": [
    "## Part 2\n",
    "\n",
    "write the code for the following:\n",
    "replace the first value in data with its negative\n",
    "add the value 10 to the end of data\n",
    "insert 16 at position 2 in the data \n",
    "remove the value at position 1 in data\n",
    "sort the values in data tempoarily\n",
    "sort the values in data permanently\n",
    "write a script that changes even numbers in data to negative values \n",
    "write a script that places copies of negative values in data into a new list\n",
    "write a script that prints each value in data as a cumulative sum of data, i.e. data: 5, 3, 7 would be: 5, 8, 15 "
   ]
  },
  {
   "cell_type": "code",
   "execution_count": 17,
   "metadata": {},
   "outputs": [
    {
     "name": "stdout",
     "output_type": "stream",
     "text": [
      "[-5, 3, 7]\n"
     ]
    }
   ],
   "source": [
    "data = [5, 3, 7]\n",
    "data.insert(0, -data[0])\n",
    "data.pop(1)\n",
    "print(data)\n"
   ]
  },
  {
   "cell_type": "code",
   "execution_count": null,
   "metadata": {},
   "outputs": [],
   "source": []
  }
 ],
 "metadata": {
  "kernelspec": {
   "display_name": "base",
   "language": "python",
   "name": "python3"
  },
  "language_info": {
   "codemirror_mode": {
    "name": "ipython",
    "version": 3
   },
   "file_extension": ".py",
   "mimetype": "text/x-python",
   "name": "python",
   "nbconvert_exporter": "python",
   "pygments_lexer": "ipython3",
   "version": "3.11.5"
  }
 },
 "nbformat": 4,
 "nbformat_minor": 2
}

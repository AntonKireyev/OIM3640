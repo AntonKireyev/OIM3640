{
 "cells": [
  {
   "cell_type": "code",
   "execution_count": null,
   "metadata": {},
   "outputs": [],
   "source": [
    "bool isTEst = True\n",
    "\n",
    "while isTEst\n",
    "    bool isNUmber = IsNUmmeric (myString)\n",
    "    if isNumber == False\n",
    "        continue\n",
    "    float numYears = float(Convert(myString))\n",
    "    isTest = false\n"
   ]
  },
  {
   "cell_type": "code",
   "execution_count": 7,
   "metadata": {},
   "outputs": [
    {
     "name": "stdout",
     "output_type": "stream",
     "text": [
      "loop complete\n"
     ]
    }
   ],
   "source": [
    "while True:\n",
    "    balance = input(\"Loan Amount: $\")\n",
    "    if balance.isnumeric():\n",
    "        break\n",
    "    else:\n",
    "        print(\"invalid\")\n",
    "print(\"loop complete\")\n",
    "               \n"
   ]
  },
  {
   "cell_type": "markdown",
   "metadata": {},
   "source": [
    "x = int(input(\"give number\"))"
   ]
  },
  {
   "cell_type": "code",
   "execution_count": 1,
   "metadata": {},
   "outputs": [],
   "source": [
    "x = int(input(\"give number: \"))"
   ]
  },
  {
   "cell_type": "code",
   "execution_count": 2,
   "metadata": {},
   "outputs": [
    {
     "data": {
      "text/plain": [
       "int"
      ]
     },
     "execution_count": 2,
     "metadata": {},
     "output_type": "execute_result"
    }
   ],
   "source": [
    "type(x)"
   ]
  },
  {
   "cell_type": "code",
   "execution_count": 3,
   "metadata": {},
   "outputs": [],
   "source": [
    "y = x / 12"
   ]
  },
  {
   "cell_type": "code",
   "execution_count": 4,
   "metadata": {},
   "outputs": [
    {
     "data": {
      "text/plain": [
       "float"
      ]
     },
     "execution_count": 4,
     "metadata": {},
     "output_type": "execute_result"
    }
   ],
   "source": [
    "type(y)"
   ]
  },
  {
   "cell_type": "code",
   "execution_count": 6,
   "metadata": {},
   "outputs": [
    {
     "data": {
      "text/plain": [
       "Date\n",
       "2024-02-20 00:00:00-05:00    471.250000\n",
       "2024-02-21 00:00:00-05:00    468.029999\n",
       "2024-02-22 00:00:00-05:00    486.130005\n",
       "2024-02-23 00:00:00-05:00    484.029999\n",
       "2024-02-26 00:00:00-05:00    481.739990\n",
       "2024-02-27 00:00:00-05:00    487.049988\n",
       "2024-02-28 00:00:00-05:00    484.019989\n",
       "2024-02-29 00:00:00-05:00    490.130005\n",
       "2024-03-01 00:00:00-05:00    502.299988\n",
       "2024-03-04 00:00:00-05:00    498.190002\n",
       "Name: Close, dtype: float64"
      ]
     },
     "execution_count": 6,
     "metadata": {},
     "output_type": "execute_result"
    }
   ],
   "source": [
    "import yfinance as yf\n",
    "(yf.Ticker(\"META\").history(period = '1mo', interval = '1d')['Close'])[0:10]"
   ]
  }
 ],
 "metadata": {
  "kernelspec": {
   "display_name": "base",
   "language": "python",
   "name": "python3"
  },
  "language_info": {
   "codemirror_mode": {
    "name": "ipython",
    "version": 3
   },
   "file_extension": ".py",
   "mimetype": "text/x-python",
   "name": "python",
   "nbconvert_exporter": "python",
   "pygments_lexer": "ipython3",
   "version": "3.11.5"
  }
 },
 "nbformat": 4,
 "nbformat_minor": 2
}

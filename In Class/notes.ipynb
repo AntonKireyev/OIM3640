{
 "cells": [
  {
   "cell_type": "code",
   "execution_count": null,
   "metadata": {},
   "outputs": [],
   "source": [
    "bool isTEst = True\n",
    "\n",
    "while isTEst\n",
    "    bool isNUmber = IsNUmmeric (myString)\n",
    "    if isNumber == False\n",
    "        continue\n",
    "    float numYears = float(Convert(myString))\n",
    "    isTest = false\n"
   ]
  },
  {
   "cell_type": "code",
   "execution_count": 7,
   "metadata": {},
   "outputs": [
    {
     "name": "stdout",
     "output_type": "stream",
     "text": [
      "loop complete\n"
     ]
    }
   ],
   "source": [
    "while True:\n",
    "    balance = input(\"Loan Amount: $\")\n",
    "    if balance.isnumeric():\n",
    "        break\n",
    "    else:\n",
    "        print(\"invalid\")\n",
    "print(\"loop complete\")\n",
    "               \n"
   ]
  },
  {
   "cell_type": "markdown",
   "metadata": {},
   "source": [
    "x = int(input(\"give number\"))"
   ]
  },
  {
   "cell_type": "code",
   "execution_count": 1,
   "metadata": {},
   "outputs": [],
   "source": [
    "x = int(input(\"give number: \"))"
   ]
  },
  {
   "cell_type": "code",
   "execution_count": 2,
   "metadata": {},
   "outputs": [
    {
     "data": {
      "text/plain": [
       "int"
      ]
     },
     "execution_count": 2,
     "metadata": {},
     "output_type": "execute_result"
    }
   ],
   "source": [
    "type(x)"
   ]
  },
  {
   "cell_type": "code",
   "execution_count": 3,
   "metadata": {},
   "outputs": [],
   "source": [
    "y = x / 12"
   ]
  },
  {
   "cell_type": "code",
   "execution_count": 4,
   "metadata": {},
   "outputs": [
    {
     "data": {
      "text/plain": [
       "float"
      ]
     },
     "execution_count": 4,
     "metadata": {},
     "output_type": "execute_result"
    }
   ],
   "source": [
    "type(y)"
   ]
  },
  {
   "cell_type": "code",
   "execution_count": 1,
   "metadata": {},
   "outputs": [
    {
     "name": "stdout",
     "output_type": "stream",
     "text": [
      "[10, 23, 25, 145]\n"
     ]
    }
   ],
   "source": [
    "list = [10, 145, 23, 25]\n",
    "newlist = sorted(list)\n",
    "\n",
    "print(newlist)"
   ]
  },
  {
   "cell_type": "code",
   "execution_count": 7,
   "metadata": {},
   "outputs": [
    {
     "name": "stdout",
     "output_type": "stream",
     "text": [
      "[2, 9, 25, 64, 100]\n",
      "[2, 9, 25, 64, 10]\n",
      "[2, 9, 25, 8, 10]\n",
      "[2, 9, 5, 8, 10]\n",
      "[2, 3, 5, 8, 10]\n",
      "28\n"
     ]
    }
   ],
   "source": [
    "\n",
    "def gifts_function():\n",
    "    gifts = [25,64,9,4,100]\n",
    "    k=4\n",
    "    import math\n",
    "    gifts = sorted(gifts)\n",
    "    upper = k+1\n",
    "    if upper > len(gifts):\n",
    "        upper = len(gifts) + 1\n",
    "    for second in range(0,upper):\n",
    "        gifts[-second] = (math.floor(math.sqrt(gifts[-second])))\n",
    "        print(gifts)\n",
    "    return sum(gifts)\n",
    "\n",
    "print(gifts_function())"
   ]
  }
 ],
 "metadata": {
  "kernelspec": {
   "display_name": "base",
   "language": "python",
   "name": "python3"
  },
  "language_info": {
   "codemirror_mode": {
    "name": "ipython",
    "version": 3
   },
   "file_extension": ".py",
   "mimetype": "text/x-python",
   "name": "python",
   "nbconvert_exporter": "python",
   "pygments_lexer": "ipython3",
   "version": "3.11.5"
  }
 },
 "nbformat": 4,
 "nbformat_minor": 2
}

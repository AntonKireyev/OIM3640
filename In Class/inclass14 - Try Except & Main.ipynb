{
 "cells": [
  {
   "cell_type": "markdown",
   "metadata": {},
   "source": [
    "# Handling Exceptions\n",
    "* this allows programs to continue even after encountering an error"
   ]
  },
  {
   "cell_type": "code",
   "execution_count": null,
   "metadata": {},
   "outputs": [],
   "source": [
    "values = [(1, 2), ('5', 6), (5, 4), (0, 0)]\n",
    "\n",
    "for value in values:\n",
    "    print(value[0] / value[1])"
   ]
  },
  {
   "cell_type": "code",
   "execution_count": 1,
   "metadata": {},
   "outputs": [
    {
     "name": "stdout",
     "output_type": "stream",
     "text": [
      "0.5\n",
      "That does not compute!\n",
      "1.25\n",
      "That does not compute!\n"
     ]
    }
   ],
   "source": [
    "values = [(1, 2), ('5', 6), (5, 4), (0, 0)]\n",
    "\n",
    "for value in values:\n",
    "    try:\n",
    "        print(value[0] / value[1])\n",
    "    except:\n",
    "        print(\"That does not compute!\")"
   ]
  },
  {
   "cell_type": "code",
   "execution_count": null,
   "metadata": {},
   "outputs": [],
   "source": [
    "values = [(1, 2), ('5', 6), (5, 4), (0, 0)]\n",
    "\n",
    "for value in values:\n",
    "    try:\n",
    "        print(value[0] / value[1])\n",
    "    except Exception as e:\n",
    "        print(e)"
   ]
  },
  {
   "cell_type": "code",
   "execution_count": null,
   "metadata": {},
   "outputs": [],
   "source": [
    "values = [(1, 2), ('5', 6), (5, 4), (0, 0)]\n",
    "\n",
    "for value in values:\n",
    "    try:\n",
    "        print(value[0] / value[1])\n",
    "    except TypeError as e:\n",
    "        print(e)"
   ]
  },
  {
   "cell_type": "code",
   "execution_count": 2,
   "metadata": {},
   "outputs": [
    {
     "name": "stdout",
     "output_type": "stream",
     "text": [
      "0.5\n",
      "unsupported operand type(s) for /: 'str' and 'int'\n",
      "1.25\n",
      "division by zero\n"
     ]
    }
   ],
   "source": [
    "values = [(1, 2), ('5', 6), (5, 4), (0, 0)]\n",
    "\n",
    "for value in values:\n",
    "    try:\n",
    "        print(value[0] / value[1])\n",
    "    except TypeError as e:\n",
    "        print(e)\n",
    "    except ZeroDivisionError as e:\n",
    "        print(e)"
   ]
  },
  {
   "cell_type": "code",
   "execution_count": 2,
   "metadata": {},
   "outputs": [
    {
     "name": "stdout",
     "output_type": "stream",
     "text": [
      "2.0\n",
      "2.0\n",
      "This happens no matter what\n"
     ]
    }
   ],
   "source": [
    "values = [(1, 2), ('5', 6), (5, 4), (0, 0)]\n",
    "\n",
    "while True:\n",
    "    try:\n",
    "        val1 = int(input(\"first number: \"))\n",
    "        val2 = int(input(\"second numbers: \"))\n",
    "        result = val1 / val2\n",
    "    except TypeError:\n",
    "        print(\"enter two numbers\")\n",
    "    except ZeroDivisionError as e:\n",
    "        print(\"Can't divide by zero\")\n",
    "    else:\n",
    "        print(result)\n",
    "        break\n",
    "    finally:\n",
    "        print(\"This happens no matter what\")"
   ]
  },
  {
   "cell_type": "markdown",
   "metadata": {},
   "source": [
    "# main Function\n",
    "* void function (no arguments, no values)\n",
    "* code order doesn't matter as long as main is called at the end of script."
   ]
  },
  {
   "cell_type": "code",
   "execution_count": null,
   "metadata": {},
   "outputs": [],
   "source": []
  }
 ],
 "metadata": {
  "kernelspec": {
   "display_name": "base",
   "language": "python",
   "name": "python3"
  },
  "language_info": {
   "codemirror_mode": {
    "name": "ipython",
    "version": 3
   },
   "file_extension": ".py",
   "mimetype": "text/x-python",
   "name": "python",
   "nbconvert_exporter": "python",
   "pygments_lexer": "ipython3",
   "version": "3.11.5"
  }
 },
 "nbformat": 4,
 "nbformat_minor": 2
}

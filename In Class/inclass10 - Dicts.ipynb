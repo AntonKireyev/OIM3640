{
 "cells": [
  {
   "cell_type": "markdown",
   "metadata": {},
   "source": [
    "# Dicts (Dictionaries)\n",
    "* Key, value stores\n",
    "* sometimes referred to as ojbject literal\n",
    "* \"mini\" databse\n",
    "* similiar to JSON\n",
    "* Keys must be immutable and unique (Can't add the same key twice)\n",
    "* There is no index\n",
    "* {k : v } -> some key refers to a specific value"
   ]
  },
  {
   "cell_type": "code",
   "execution_count": 1,
   "metadata": {},
   "outputs": [],
   "source": [
    "menu = {\"Burger\" : 5.75, \"Impossible\" : 6.75, \"Cheese\" : 0.75, \"Avocado\" : 1.5}"
   ]
  },
  {
   "cell_type": "code",
   "execution_count": 2,
   "metadata": {},
   "outputs": [
    {
     "data": {
      "text/plain": [
       "5.75"
      ]
     },
     "execution_count": 2,
     "metadata": {},
     "output_type": "execute_result"
    }
   ],
   "source": [
    "menu['Burger']"
   ]
  },
  {
   "cell_type": "code",
   "execution_count": 4,
   "metadata": {},
   "outputs": [
    {
     "data": {
      "text/plain": [
       "{'Burger': 5.75,\n",
       " 'Impossible': 6.75,\n",
       " 'Cheese': 0.75,\n",
       " 'Avocado': 1.5,\n",
       " 'Chicken': 8.5}"
      ]
     },
     "execution_count": 4,
     "metadata": {},
     "output_type": "execute_result"
    }
   ],
   "source": [
    "# Add a key/value\n",
    "menu['Chicken'] = 8.50\n",
    "menu"
   ]
  },
  {
   "cell_type": "markdown",
   "metadata": {},
   "source": [
    "## Testing for an empty dictionary"
   ]
  },
  {
   "cell_type": "code",
   "execution_count": 5,
   "metadata": {},
   "outputs": [
    {
     "name": "stdout",
     "output_type": "stream",
     "text": [
      "empty\n"
     ]
    }
   ],
   "source": [
    "empty = {}\n",
    "if empty:\n",
    "    print(\"not empty\")\n",
    "else:\n",
    "    print(\"empty\")"
   ]
  },
  {
   "cell_type": "code",
   "execution_count": 6,
   "metadata": {},
   "outputs": [
    {
     "data": {
      "text/plain": [
       "dict_items([('Burger', 5.75), ('Impossible', 6.75), ('Cheese', 0.75), ('Avocado', 1.5), ('Chicken', 8.5)])"
      ]
     },
     "execution_count": 6,
     "metadata": {},
     "output_type": "execute_result"
    }
   ],
   "source": [
    "menu.items()"
   ]
  },
  {
   "cell_type": "code",
   "execution_count": 7,
   "metadata": {},
   "outputs": [
    {
     "data": {
      "text/plain": [
       "dict_values([5.75, 6.75, 0.75, 1.5, 8.5])"
      ]
     },
     "execution_count": 7,
     "metadata": {},
     "output_type": "execute_result"
    }
   ],
   "source": [
    "menu.values()"
   ]
  },
  {
   "cell_type": "code",
   "execution_count": 8,
   "metadata": {},
   "outputs": [
    {
     "data": {
      "text/plain": [
       "dict_keys(['Burger', 'Impossible', 'Cheese', 'Avocado', 'Chicken'])"
      ]
     },
     "execution_count": 8,
     "metadata": {},
     "output_type": "execute_result"
    }
   ],
   "source": [
    "menu.keys()"
   ]
  },
  {
   "cell_type": "code",
   "execution_count": 9,
   "metadata": {},
   "outputs": [
    {
     "data": {
      "text/plain": [
       "[5.75, 6.75, 0.75, 1.5, 8.5]"
      ]
     },
     "execution_count": 9,
     "metadata": {},
     "output_type": "execute_result"
    }
   ],
   "source": [
    "list(menu.values())"
   ]
  },
  {
   "cell_type": "markdown",
   "metadata": {},
   "source": [
    "### Iteration"
   ]
  },
  {
   "cell_type": "code",
   "execution_count": 13,
   "metadata": {},
   "outputs": [
    {
     "name": "stdout",
     "output_type": "stream",
     "text": [
      "Burger          5.75\n",
      "Impossible      6.75\n",
      "Cheese          0.75\n",
      "Avocado          1.5\n",
      "Chicken          8.5\n"
     ]
    }
   ],
   "source": [
    "for k,v in menu.items():\n",
    "    print(f\"{k:<10}{v:>10}\")"
   ]
  },
  {
   "cell_type": "code",
   "execution_count": 14,
   "metadata": {},
   "outputs": [
    {
     "data": {
      "text/plain": [
       "'Not Found'"
      ]
     },
     "execution_count": 14,
     "metadata": {},
     "output_type": "execute_result"
    }
   ],
   "source": [
    "menu.get(\"Sausage\", \"Not Found\")"
   ]
  },
  {
   "cell_type": "code",
   "execution_count": 19,
   "metadata": {},
   "outputs": [
    {
     "name": "stdout",
     "output_type": "stream",
     "text": [
      "Avocado         1.50\n",
      "Burger          5.75\n",
      "Cheese          0.75\n",
      "Chicken         8.50\n",
      "Impossible      6.75\n"
     ]
    }
   ],
   "source": [
    "for key in sorted(menu):\n",
    "    print(f\"{key:<10}{menu[key]:>10.2f}\")"
   ]
  },
  {
   "cell_type": "code",
   "execution_count": 21,
   "metadata": {},
   "outputs": [],
   "source": [
    "romans = {\"I\": 1, \"II\" : 2, \"III\" : 3, \"IV\" : 4, \"V\" : 5, \"VI\" : 6, \"VII\" : 7, \"VIII\" : 8, \"IX\" : 9, \"X\": 10}"
   ]
  },
  {
   "cell_type": "code",
   "execution_count": 23,
   "metadata": {},
   "outputs": [
    {
     "data": {
      "text/plain": [
       "15"
      ]
     },
     "execution_count": 23,
     "metadata": {},
     "output_type": "execute_result"
    }
   ],
   "source": [
    "input1 = input(\"First Character\")\n",
    "input2 = input(\"Second Character\")\n",
    "romans[input1] + romans[input2]"
   ]
  },
  {
   "cell_type": "code",
   "execution_count": 39,
   "metadata": {},
   "outputs": [
    {
     "name": "stdout",
     "output_type": "stream",
     "text": [
      "24\n"
     ]
    }
   ],
   "source": [
    "convert = \"XXIV\"\n",
    "number = 0\n",
    "for numeral in convert:\n",
    "    number += romans[numeral]\n",
    "\n",
    "if convert[len(convert)-2] == \"I\":    \n",
    "    number -= 2\n",
    "if convert[len(convert)-2] == \"V\":\n",
    "    number -= 10\n",
    "if convert[len(convert)-2] == \"X\":\n",
    "    number -= 20\n",
    "print(number)"
   ]
  },
  {
   "cell_type": "code",
   "execution_count": 34,
   "metadata": {},
   "outputs": [
    {
     "name": "stdout",
     "output_type": "stream",
     "text": [
      "0\n",
      "1\n",
      "2\n",
      "3\n"
     ]
    }
   ],
   "source": [
    "convert_example = \"XXIV\"\n",
    "value = 0\n",
    "for index in range(len(convert)):\n",
    "    print(index)\n"
   ]
  },
  {
   "cell_type": "markdown",
   "metadata": {},
   "source": [
    "### More Complex Data Structures"
   ]
  },
  {
   "cell_type": "code",
   "execution_count": 41,
   "metadata": {},
   "outputs": [
    {
     "data": {
      "text/plain": [
       "'781-772-1292'"
      ]
     },
     "execution_count": 41,
     "metadata": {},
     "output_type": "execute_result"
    }
   ],
   "source": [
    "customers = {'John':{'email': \"john@email.com\", \"phone\": \"781-772-1292\"}}\n",
    "customers['John']['phone']"
   ]
  },
  {
   "cell_type": "code",
   "execution_count": 42,
   "metadata": {},
   "outputs": [
    {
     "name": "stdout",
     "output_type": "stream",
     "text": [
      "Amy\n",
      "Neil\n",
      "Brett\n"
     ]
    },
    {
     "data": {
      "text/plain": [
       "{'Amy': {'email': 'amyemail', 'phone': 'amyphone'},\n",
       " 'Neil': {'email': 'neilemail', 'phone': 'nphone'},\n",
       " 'Brett': {'email': 'idk', 'phone': 'breetphone'}}"
      ]
     },
     "execution_count": 42,
     "metadata": {},
     "output_type": "execute_result"
    }
   ],
   "source": [
    "new_leads = ['Amy', 'Neil', 'Brett', 'Amy']\n",
    "new_leads = set(new_leads)\n",
    "customers = {}\n",
    "for name in new_leads:\n",
    "    print(name)\n",
    "    email = input(\"Enter email\")\n",
    "    phone = input(\"enter phone\")\n",
    "    customers[name] = {'email' : email, \"phone\" : phone}\n",
    "customers"
   ]
  },
  {
   "cell_type": "markdown",
   "metadata": {},
   "source": [
    "### Removing Data"
   ]
  },
  {
   "cell_type": "code",
   "execution_count": 43,
   "metadata": {},
   "outputs": [
    {
     "data": {
      "text/plain": [
       "{'Impossible': 6.75, 'Cheese': 0.75, 'Avocado': 1.5, 'Chicken': 8.5}"
      ]
     },
     "execution_count": 43,
     "metadata": {},
     "output_type": "execute_result"
    }
   ],
   "source": [
    "del menu ['Burger']     # del works for anything\n",
    "menu"
   ]
  },
  {
   "cell_type": "code",
   "execution_count": null,
   "metadata": {},
   "outputs": [],
   "source": []
  },
  {
   "cell_type": "markdown",
   "metadata": {},
   "source": [
    "## Another Take on the Dice Rolling Simulator"
   ]
  },
  {
   "cell_type": "code",
   "execution_count": 45,
   "metadata": {},
   "outputs": [
    {
     "data": {
      "text/plain": [
       "{2: 0, 3: 0, 4: 0, 5: 0, 6: 0, 7: 0, 8: 0, 9: 0, 10: 0, 11: 0, 12: 0}"
      ]
     },
     "execution_count": 45,
     "metadata": {},
     "output_type": "execute_result"
    }
   ],
   "source": [
    "# Dictionary Comprehension\n",
    "\n",
    "rolls = {k : 0 for k in range(2,13)}\n",
    "rolls"
   ]
  },
  {
   "cell_type": "code",
   "execution_count": 67,
   "metadata": {},
   "outputs": [
    {
     "name": "stdout",
     "output_type": "stream",
     "text": [
      "{4: 81, 9: 109, 8: 141, 3: 53, 7: 173, 11: 58, 10: 78, 5: 116, 6: 133, 2: 31, 12: 27}\n"
     ]
    }
   ],
   "source": [
    "import matplotlib.pyplot as plt\n",
    "import random\n",
    "\n",
    "rolls = {}\n",
    "for iteration in range(1000):\n",
    "    roll = random.randint(1,6) + random.randint(1,6)\n",
    "    if roll not in rolls:\n",
    "        rolls[roll] = 1\n",
    "    else:\n",
    "        rolls[roll] += 1\n",
    "print(rolls)"
   ]
  },
  {
   "cell_type": "code",
   "execution_count": 68,
   "metadata": {},
   "outputs": [
    {
     "data": {
      "image/png": "[encoded data removed]",
      "text/plain": [
       "<Figure size 640x480 with 1 Axes>"
      ]
     },
     "metadata": {},
     "output_type": "display_data"
    }
   ],
   "source": [
    "plt.bar(rolls.keys(), rolls.values(), color = (0.5,0.5,0));"
   ]
  },
  {
   "cell_type": "markdown",
   "metadata": {},
   "source": [
    "## Sorting Data by keys and Values"
   ]
  },
  {
   "cell_type": "code",
   "execution_count": 69,
   "metadata": {},
   "outputs": [
    {
     "data": {
      "text/plain": [
       "['Avocado', 'Cheese', 'Chicken', 'Impossible']"
      ]
     },
     "execution_count": 69,
     "metadata": {},
     "output_type": "execute_result"
    }
   ],
   "source": [
    "sorted(menu)"
   ]
  },
  {
   "cell_type": "code",
   "execution_count": 74,
   "metadata": {},
   "outputs": [
    {
     "name": "stdout",
     "output_type": "stream",
     "text": [
      "Avocado              1.50\n",
      "Cheese               0.75\n",
      "Chicken              8.50\n",
      "Impossible           6.75\n"
     ]
    }
   ],
   "source": [
    "for price in sorted(menu):\n",
    "    print(f\"{price:<10}{menu[price]:>15.2f}\")"
   ]
  },
  {
   "cell_type": "code",
   "execution_count": 75,
   "metadata": {},
   "outputs": [],
   "source": [
    "import operator"
   ]
  },
  {
   "cell_type": "code",
   "execution_count": null,
   "metadata": {},
   "outputs": [],
   "source": [
    "help(operator)"
   ]
  },
  {
   "cell_type": "code",
   "execution_count": 80,
   "metadata": {},
   "outputs": [],
   "source": [
    "from operator import itemgetter"
   ]
  },
  {
   "cell_type": "code",
   "execution_count": 81,
   "metadata": {},
   "outputs": [
    {
     "data": {
      "text/plain": [
       "['Impossible', 'Chicken', 'Cheese', 'Avocado']"
      ]
     },
     "execution_count": 81,
     "metadata": {},
     "output_type": "execute_result"
    }
   ],
   "source": [
    "sorted(menu, reverse = True)"
   ]
  },
  {
   "cell_type": "code",
   "execution_count": 85,
   "metadata": {},
   "outputs": [
    {
     "data": {
      "text/plain": [
       "[('Chicken', 8.5), ('Impossible', 6.75), ('Avocado', 1.5), ('Cheese', 0.75)]"
      ]
     },
     "execution_count": 85,
     "metadata": {},
     "output_type": "execute_result"
    }
   ],
   "source": [
    "sorted(menu.items(), key = itemgetter(1), reverse= True)        # sorting by price"
   ]
  },
  {
   "cell_type": "code",
   "execution_count": 88,
   "metadata": {},
   "outputs": [
    {
     "name": "stdout",
     "output_type": "stream",
     "text": [
      "Chicken              8.50\n",
      "Impossible           6.75\n",
      "Avocado              1.50\n",
      "Cheese               0.75\n"
     ]
    }
   ],
   "source": [
    "for item in sorted(menu.items(), key = itemgetter(1), reverse= True):\n",
    "    print(f\"{item[0]:<10}{item[1]:>15.2f}\")"
   ]
  },
  {
   "cell_type": "markdown",
   "metadata": {},
   "source": [
    "## Zip to create dicts"
   ]
  },
  {
   "cell_type": "code",
   "execution_count": 89,
   "metadata": {},
   "outputs": [
    {
     "data": {
      "text/plain": [
       "{'A': 3, 'B': 10, 'C': 5, 'D': 5, 'E': 1}"
      ]
     },
     "execution_count": 89,
     "metadata": {},
     "output_type": "execute_result"
    }
   ],
   "source": [
    "letters = [\"A\", \"B\", \"C\", \"D\", \"E\"]\n",
    "counts = [3, 10, 5, 5, 1]\n",
    "dict(zip(letters,counts))"
   ]
  }
 ],
 "metadata": {
  "kernelspec": {
   "display_name": "base",
   "language": "python",
   "name": "python3"
  },
  "language_info": {
   "codemirror_mode": {
    "name": "ipython",
    "version": 3
   },
   "file_extension": ".py",
   "mimetype": "text/x-python",
   "name": "python",
   "nbconvert_exporter": "python",
   "pygments_lexer": "ipython3",
   "version": "3.11.5"
  }
 },
 "nbformat": 4,
 "nbformat_minor": 2
}

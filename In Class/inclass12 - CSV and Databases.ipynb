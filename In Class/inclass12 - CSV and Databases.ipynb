{
 "cells": [
  {
   "cell_type": "markdown",
   "metadata": {},
   "source": [
    "# CSV Module"
   ]
  },
  {
   "cell_type": "code",
   "execution_count": 11,
   "metadata": {},
   "outputs": [],
   "source": [
    "import csv\n",
    "import os"
   ]
  },
  {
   "cell_type": "code",
   "execution_count": 12,
   "metadata": {},
   "outputs": [
    {
     "data": {
      "text/plain": [
       "'c:\\\\Users\\\\akireyev1\\\\Desktop\\\\vscode\\\\OIM3640\\\\In Class'"
      ]
     },
     "execution_count": 12,
     "metadata": {},
     "output_type": "execute_result"
    }
   ],
   "source": [
    "os.getcwd()"
   ]
  },
  {
   "cell_type": "code",
   "execution_count": 13,
   "metadata": {},
   "outputs": [],
   "source": [
    "file = open('../data/spy.csv', mode = 'r', newline = '')\n",
    "reader = csv.reader(file)\n",
    "header = next(reader)\n",
    "data = [row for row in reader]\n",
    "file.close()"
   ]
  },
  {
   "cell_type": "code",
   "execution_count": 14,
   "metadata": {},
   "outputs": [
    {
     "name": "stdout",
     "output_type": "stream",
     "text": [
      "[['02/23/2024', '509.27', '510.13', '507.10', '507.85', '61,321,820'], ['02/22/2024', '504.01', '508.49', '503.02', '507.50', '76,402,547'], ['02/21/2024', '495.42', '497.37', '493.56', '497.21', '59,603,770'], ['02/20/2024', '497.72', '498.41', '494.45', '496.76', '71,736,734'], ['02/16/2024', '501.70', '502.87', '498.75', '499.51', '75,532,930'], ['02/15/2024', '499.29', '502.20', '498.80', '502.01', '61,682,961'], ['02/14/2024', '496.79', '499.07', '494.40', '498.57', '68,387,828'], ['02/13/2024', '494.53', '497.09', '490.72', '494.08', '113,099,203'], ['02/12/2024', '501.17', '503.50', '500.24', '500.98', '56,502,281'], ['02/09/2024', '498.84', '501.65', '498.49', '501.20', '63,979,379'], ['02/08/2024', '498.10', '498.71', '497.26', '498.32', '52,343,641'], ['02/07/2024', '496.29', '498.53', '495.36', '498.10', '70,556,516'], ['02/06/2024', '493.52', '494.32', '492.05', '493.98', '55,918,602'], ['02/05/2024', '493.70', '494.38', '490.23', '492.55', '75,757,102'], ['02/02/2024', '489.65', '496.05', '489.30', '494.35', '99,228,195'], ['02/01/2024', '484.63', '489.23', '483.80', '489.20', '91,891,641'], ['01/31/2024', '488.62', '489.08', '482.86', '482.88', '126,011,102'], ['01/30/2024', '490.56', '491.62', '490.11', '490.89', '58,618,391'], ['01/29/2024', '487.73', '491.42', '487.17', '491.27', '61,322,754'], ['01/26/2024', '487.59', '489.12', '486.54', '487.41', '76,641,609'], ['01/25/2024', '487.58', '488.31', '485.39', '488.03', '72,524,992'], ['01/24/2024', '487.81', '488.77', '484.88', '485.39', '81,765,039']]\n",
      "['Date', 'Open', 'High', 'Low', 'Close', 'Volume']\n"
     ]
    }
   ],
   "source": [
    "print(data)     # list of lists!\n",
    "print(header)"
   ]
  },
  {
   "cell_type": "markdown",
   "metadata": {},
   "source": [
    "# Databases"
   ]
  },
  {
   "cell_type": "code",
   "execution_count": 15,
   "metadata": {},
   "outputs": [],
   "source": [
    "import sqlite3"
   ]
  },
  {
   "cell_type": "code",
   "execution_count": 16,
   "metadata": {},
   "outputs": [],
   "source": [
    "connection = sqlite3.connect('../data/demo.db')     # create a database, if it already exists it just connects to it\n",
    "cursor = connection.cursor()"
   ]
  },
  {
   "cell_type": "code",
   "execution_count": 17,
   "metadata": {},
   "outputs": [
    {
     "data": {
      "text/plain": [
       "<sqlite3.Cursor at 0x2155ac94540>"
      ]
     },
     "execution_count": 17,
     "metadata": {},
     "output_type": "execute_result"
    }
   ],
   "source": [
    "# Create the table\n",
    "cursor.execute(\"DROP TABLE IF EXISTS data\")         # Run SQL in the db, dont run this if data exists, it will overwite the table and create a new one\n"
   ]
  },
  {
   "cell_type": "code",
   "execution_count": null,
   "metadata": {},
   "outputs": [],
   "source": [
    "cursor.execute('''CREATE TABLE\n",
    "    data(id integer primary key autoincrement,\n",
    "    date text,\n",
    "    open real,\n",
    "    high real,\n",
    "    low real,\n",
    "    close real,\n",
    "    volume integer)\n",
    "''')"
   ]
  },
  {
   "cell_type": "code",
   "execution_count": 18,
   "metadata": {},
   "outputs": [],
   "source": [
    "datapoint = data[0]\n",
    "sql = '''INSERT INTO data(date, open, high, low, close, volume)\n",
    "        VALUES (?,?,?,?,?,?)'''"
   ]
  },
  {
   "cell_type": "code",
   "execution_count": 19,
   "metadata": {},
   "outputs": [
    {
     "data": {
      "text/plain": [
       "<sqlite3.Cursor at 0x2155ac94540>"
      ]
     },
     "execution_count": 19,
     "metadata": {},
     "output_type": "execute_result"
    }
   ],
   "source": [
    "cursor.execute(sql, datapoint)"
   ]
  },
  {
   "cell_type": "code",
   "execution_count": 21,
   "metadata": {},
   "outputs": [],
   "source": [
    "connection.commit()     # Commit to the db"
   ]
  },
  {
   "cell_type": "markdown",
   "metadata": {},
   "source": [
    "### Query Data"
   ]
  },
  {
   "cell_type": "code",
   "execution_count": 22,
   "metadata": {},
   "outputs": [],
   "source": [
    "sql = 'SELECT * FROM data'\n",
    "cursor.execute(sql)\n",
    "result = cursor.fetchone()"
   ]
  },
  {
   "cell_type": "code",
   "execution_count": 23,
   "metadata": {},
   "outputs": [
    {
     "name": "stdout",
     "output_type": "stream",
     "text": [
      "(1, '02/23/2024', 509.27, 510.13, 507.1, 507.85, '61,321,820')\n"
     ]
    }
   ],
   "source": [
    "print(result)"
   ]
  },
  {
   "cell_type": "code",
   "execution_count": 24,
   "metadata": {},
   "outputs": [],
   "source": [
    "connection.close()"
   ]
  }
 ],
 "metadata": {
  "kernelspec": {
   "display_name": "base",
   "language": "python",
   "name": "python3"
  },
  "language_info": {
   "codemirror_mode": {
    "name": "ipython",
    "version": 3
   },
   "file_extension": ".py",
   "mimetype": "text/x-python",
   "name": "python",
   "nbconvert_exporter": "python",
   "pygments_lexer": "ipython3",
   "version": "3.11.5"
  }
 },
 "nbformat": 4,
 "nbformat_minor": 2
}

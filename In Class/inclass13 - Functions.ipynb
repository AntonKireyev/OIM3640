{
 "cells": [
  {
   "cell_type": "markdown",
   "metadata": {},
   "source": [
    "# Functions\n",
    "More Specifically, User-Defined Functions.\n",
    "\n",
    "* Blocks of reusable Code\n",
    "* smaller programs withn a larger body\n",
    "* allow for better organization of code\n",
    "* makes code easier to read and eaiser to change\n",
    "* minimizes repetition\n",
    "* people who use Python daily may create files fll of user defined functions they can use frequently.\n",
    "* functions are only executed if/when they are \"called\""
   ]
  },
  {
   "cell_type": "markdown",
   "metadata": {},
   "source": [
    "### User deifned functions - def function_name():\n",
    "* Named with lowerase and underscores\n",
    "* No Argument, no return value\n",
    "* No Argument, with a return value\n",
    "* With Argument(s), no return value\n",
    "* with Arguments, and a return value"
   ]
  },
  {
   "cell_type": "code",
   "execution_count": 2,
   "metadata": {},
   "outputs": [],
   "source": [
    "# No Arguments no Return (Data is not entered and not stored)\n",
    "\n",
    "# Create the function\n",
    "def address():\n",
    "    print(\"Babson College\")\n",
    "    print('241 Forest St.')\n",
    "    print(\"Wellesley, MA\")"
   ]
  },
  {
   "cell_type": "code",
   "execution_count": 3,
   "metadata": {},
   "outputs": [
    {
     "name": "stdout",
     "output_type": "stream",
     "text": [
      "Babson College\n",
      "241 Forest St.\n",
      "Wellesley, MA\n"
     ]
    }
   ],
   "source": [
    "# Execute the function\n",
    "address()"
   ]
  },
  {
   "cell_type": "code",
   "execution_count": 22,
   "metadata": {},
   "outputs": [
    {
     "name": "stdout",
     "output_type": "stream",
     "text": [
      "Help on function four_square in module __main__:\n",
      "\n",
      "four_square()\n",
      "    return the value of x squared\n",
      "\n",
      "16\n"
     ]
    }
   ],
   "source": [
    "# No Arguments, With a return Value\n",
    "\n",
    "# Create the function\n",
    "def four_square():\n",
    "    ''' return the value of x squared'''        # can include doc strings for the help() function\n",
    "    return 4 ** 2\n",
    "# to execute and store result:\n",
    "value = four_square()\n",
    "\n",
    "help(four_square)\n",
    "print(value)"
   ]
  },
  {
   "cell_type": "code",
   "execution_count": 7,
   "metadata": {},
   "outputs": [
    {
     "data": {
      "text/plain": [
       "[1, 2, 3, 4, 4, 5]"
      ]
     },
     "execution_count": 7,
     "metadata": {},
     "output_type": "execute_result"
    }
   ],
   "source": [
    "x = [1,2,3]\n",
    "def append():\n",
    "    x.append(4)\n",
    "\n",
    "append()\n",
    "x\n",
    "append()\n",
    "x\n",
    "\n",
    "x.append(5)\n",
    "x"
   ]
  },
  {
   "cell_type": "code",
   "execution_count": 20,
   "metadata": {},
   "outputs": [
    {
     "name": "stdout",
     "output_type": "stream",
     "text": [
      "Babson College\n",
      "241 Forest St. \n",
      "Wellesley, MA\n"
     ]
    }
   ],
   "source": [
    "def address():\n",
    "    ''' address returns the babson college address'''\n",
    "\n",
    "    return \"Babson College\\n241 Forest St. \\nWellesley, MA\"\n",
    "a = address()\n",
    "print(a)"
   ]
  },
  {
   "cell_type": "code",
   "execution_count": 21,
   "metadata": {},
   "outputs": [
    {
     "name": "stdout",
     "output_type": "stream",
     "text": [
      "Help on built-in function max in module builtins:\n",
      "\n",
      "max(...)\n",
      "    max(iterable, *[, default=obj, key=func]) -> value\n",
      "    max(arg1, arg2, *args, *[, key=func]) -> value\n",
      "    \n",
      "    With a single iterable argument, return its biggest item. The\n",
      "    default keyword-only argument specifies an object to return if\n",
      "    the provided iterable is empty.\n",
      "    With two or more arguments, return the largest argument.\n",
      "\n",
      "Help on function address in module __main__:\n",
      "\n",
      "address()\n",
      "    address returns the babson college address\n",
      "\n"
     ]
    }
   ],
   "source": [
    "help(max)\n",
    "help(address)"
   ]
  },
  {
   "cell_type": "markdown",
   "metadata": {},
   "source": [
    "## Optional Arguments\n",
    "* Arguments that we set a default value for"
   ]
  },
  {
   "cell_type": "code",
   "execution_count": 23,
   "metadata": {},
   "outputs": [],
   "source": [
    "def square(number, square = True):\n",
    "    if square:\n",
    "        return number ** 2\n",
    "    else:\n",
    "        return number ** 3"
   ]
  },
  {
   "cell_type": "code",
   "execution_count": 25,
   "metadata": {},
   "outputs": [
    {
     "data": {
      "text/plain": [
       "25"
      ]
     },
     "execution_count": 25,
     "metadata": {},
     "output_type": "execute_result"
    }
   ],
   "source": [
    "square(5)"
   ]
  },
  {
   "cell_type": "code",
   "execution_count": 24,
   "metadata": {},
   "outputs": [
    {
     "data": {
      "text/plain": [
       "125"
      ]
     },
     "execution_count": 24,
     "metadata": {},
     "output_type": "execute_result"
    }
   ],
   "source": [
    "square(5, False)"
   ]
  },
  {
   "cell_type": "markdown",
   "metadata": {},
   "source": [
    "## Boolean Functions"
   ]
  },
  {
   "cell_type": "code",
   "execution_count": 27,
   "metadata": {},
   "outputs": [],
   "source": [
    "def is_odd(x):\n",
    "    if x % 2:\n",
    "        return True\n",
    "    else:\n",
    "        return False"
   ]
  },
  {
   "cell_type": "code",
   "execution_count": 30,
   "metadata": {},
   "outputs": [
    {
     "name": "stdout",
     "output_type": "stream",
     "text": [
      "False\n",
      "True\n"
     ]
    }
   ],
   "source": [
    "print(is_odd(4))\n",
    "print(is_odd(3))"
   ]
  },
  {
   "cell_type": "code",
   "execution_count": 36,
   "metadata": {},
   "outputs": [
    {
     "name": "stdout",
     "output_type": "stream",
     "text": [
      "[True, False, True, False, True, False, True, False, True, False]\n"
     ]
    }
   ],
   "source": [
    "ints = list(range(1,11))\n",
    "odd_numbers_one = [is_odd(int) for int in ints]\n",
    "print(odd_numbers_one)"
   ]
  },
  {
   "cell_type": "code",
   "execution_count": 34,
   "metadata": {},
   "outputs": [
    {
     "name": "stdout",
     "output_type": "stream",
     "text": [
      "[1, 3, 5, 7, 9]\n"
     ]
    }
   ],
   "source": [
    "odd_numbers = list(filter(is_odd, ints))        # filter applies the function to each entry in the defined list.\n",
    "print(odd_numbers)"
   ]
  },
  {
   "cell_type": "markdown",
   "metadata": {},
   "source": [
    "## Algorithmic Functions"
   ]
  },
  {
   "cell_type": "code",
   "execution_count": 42,
   "metadata": {},
   "outputs": [
    {
     "data": {
      "text/plain": [
       "10"
      ]
     },
     "execution_count": 42,
     "metadata": {},
     "output_type": "execute_result"
    }
   ],
   "source": [
    "# A user puts in two integers, the function finds the sum of the integers between the two\n",
    "\n",
    "def adder(low, high):\n",
    "    return sum(list(range(low, high + 1)))\n",
    "\n",
    "adder(1, 4)\n"
   ]
  },
  {
   "cell_type": "code",
   "execution_count": 49,
   "metadata": {},
   "outputs": [
    {
     "data": {
      "text/plain": [
       "1000000.0"
      ]
     },
     "execution_count": 49,
     "metadata": {},
     "output_type": "execute_result"
    }
   ],
   "source": [
    "1e6"
   ]
  },
  {
   "cell_type": "code",
   "execution_count": 68,
   "metadata": {},
   "outputs": [
    {
     "name": "stdout",
     "output_type": "stream",
     "text": [
      "4578500000.0\n",
      "4578500000.0\n",
      "457850000.0\n",
      "45785000.0\n",
      "4578500.0\n",
      "457850.0\n",
      "45785.0\n",
      "4578.5\n",
      "457.85\n",
      "45.785000000000004\n"
     ]
    },
    {
     "data": {
      "text/plain": [
       "'4.58e9'"
      ]
     },
     "execution_count": 68,
     "metadata": {},
     "output_type": "execute_result"
    }
   ],
   "source": [
    "def scientific(number):\n",
    "    print(number)\n",
    "    while number > 10:\n",
    "        print(number)\n",
    "        number /= 10\n",
    "    \n",
    "    return str(round(number, 2)) + 'e9'\n",
    "\n",
    "scientific(4.5785e9)"
   ]
  },
  {
   "cell_type": "code",
   "execution_count": 72,
   "metadata": {},
   "outputs": [
    {
     "name": "stdout",
     "output_type": "stream",
     "text": [
      "4.0\n"
     ]
    },
    {
     "data": {
      "text/plain": [
       "'4.00e9'"
      ]
     },
     "execution_count": 72,
     "metadata": {},
     "output_type": "execute_result"
    }
   ],
   "source": [
    "def scientific(number):\n",
    "    exp = 0\n",
    "    science = number\n",
    "    while science > 10:\n",
    "        science /= 10\n",
    "    while number > 10:\n",
    "        number //= 10\n",
    "        exp += 1\n",
    "\n",
    "    return(f\"{number:.2f}e{exp}\")\n",
    "\n",
    "scientific(4.5928e9)"
   ]
  },
  {
   "cell_type": "markdown",
   "metadata": {},
   "source": [
    "## Variable Inputs (*args, **kwargs)\n",
    "* allow for an unspecified number of inputs\n",
    "* args treats inputs as a tuple\n",
    "*kwargs treat as a dict\n",
    "*it's the * that matters not the name"
   ]
  },
  {
   "cell_type": "code",
   "execution_count": 73,
   "metadata": {},
   "outputs": [],
   "source": [
    "def add(*values):\n",
    "    total = 0\n",
    "    for value in values:\n",
    "        total += value\n",
    "    return total"
   ]
  },
  {
   "cell_type": "code",
   "execution_count": 74,
   "metadata": {},
   "outputs": [],
   "source": [
    "a = 10\n",
    "b = 20\n",
    "c = 30"
   ]
  },
  {
   "cell_type": "code",
   "execution_count": 75,
   "metadata": {},
   "outputs": [
    {
     "data": {
      "text/plain": [
       "60"
      ]
     },
     "execution_count": 75,
     "metadata": {},
     "output_type": "execute_result"
    }
   ],
   "source": [
    "add(a, b, c)"
   ]
  },
  {
   "cell_type": "code",
   "execution_count": 78,
   "metadata": {},
   "outputs": [
    {
     "data": {
      "text/plain": [
       "478"
      ]
     },
     "execution_count": 78,
     "metadata": {},
     "output_type": "execute_result"
    }
   ],
   "source": [
    "numbers = list(range(10,100, 10))\n",
    "\n",
    "add(*numbers, 10, 9, 2, 3, 4)"
   ]
  },
  {
   "cell_type": "code",
   "execution_count": 81,
   "metadata": {},
   "outputs": [
    {
     "data": {
      "text/plain": [
       "60"
      ]
     },
     "execution_count": 81,
     "metadata": {},
     "output_type": "execute_result"
    }
   ],
   "source": [
    "d = {'a': 10, 'b': 20, 'c': 30}\n",
    "\n",
    "add(*d.values())"
   ]
  },
  {
   "cell_type": "code",
   "execution_count": 85,
   "metadata": {},
   "outputs": [
    {
     "name": "stdout",
     "output_type": "stream",
     "text": [
      "a:\t10\n",
      "b:\t20\n",
      "c:\t30\n"
     ]
    }
   ],
   "source": [
    "def printer(**kwargs):\n",
    "    for k, v in kwargs.items():\n",
    "        print(f'{k}:\\t{v}')\n",
    "\n",
    "printer(**d)"
   ]
  }
 ],
 "metadata": {
  "kernelspec": {
   "display_name": "base",
   "language": "python",
   "name": "python3"
  },
  "language_info": {
   "codemirror_mode": {
    "name": "ipython",
    "version": 3
   },
   "file_extension": ".py",
   "mimetype": "text/x-python",
   "name": "python",
   "nbconvert_exporter": "python",
   "pygments_lexer": "ipython3",
   "version": "3.11.5"
  }
 },
 "nbformat": 4,
 "nbformat_minor": 2
}
